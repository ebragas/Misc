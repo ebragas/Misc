{
 "cells": [
  {
   "cell_type": "markdown",
   "metadata": {},
   "source": [
    "# speller.c\n",
    "### #undef"
   ]
  },
  {
   "cell_type": "code",
   "execution_count": null,
   "metadata": {
    "collapsed": true
   },
   "outputs": [],
   "source": [
    "#include <stdio.h>\n",
    "\n",
    "#define AGE 24\n",
    "\n",
    "#undef AGE\n",
    "\n",
    "int main(void)\n",
    "{\n",
    "    if (#ifdef AGE)\n",
    "    {\n",
    "        printf(\"AGE is defined\\n\");\n",
    "    }\n",
    "    else\n",
    "    {\n",
    "        printf(\"AGE is NOT defined\\n\");\n",
    "    }\n",
    "    return 0;\n",
    "}"
   ]
  },
  {
   "cell_type": "code",
   "execution_count": null,
   "metadata": {
    "collapsed": true
   },
   "outputs": [],
   "source": []
  }
 ],
 "metadata": {
  "kernelspec": {
   "display_name": "C",
   "language": "c",
   "name": "c_spec"
  }
 },
 "nbformat": 4,
 "nbformat_minor": 2
}
